{
 "cells": [
  {
   "cell_type": "markdown",
   "metadata": {},
   "source": [
    "### Gradient of Mean, Var and Std"
   ]
  },
  {
   "cell_type": "code",
   "execution_count": 47,
   "metadata": {},
   "outputs": [],
   "source": [
    "from cs231n.gradient_check import eval_numerical_gradient, eval_numerical_gradient_array\n",
    "import numpy as np\n",
    "\n",
    "data = np.arange(1.0, 9.0)\n",
    "N = len(data) + 1\n",
    "\n",
    "\n",
    "def data_append(f):\n",
    "    def warpper(x):\n",
    "        global data\n",
    "        data = np.append(data, x)\n",
    "        ret = f(x)\n",
    "        data = data[:-1]\n",
    "        return ret\n",
    "\n",
    "    return warpper\n",
    "\n",
    "\n",
    "@data_append\n",
    "def hat(x):\n",
    "    \"\"\"\n",
    "    Args:\n",
    "        x (num): num be appended to data\n",
    "\n",
    "    Returns:\n",
    "        (ndarray): hat of new_data, shape likes new_data [1XN]\n",
    "    \"\"\"\n",
    "    mean = np.mean(data)\n",
    "    std = np.std(data)\n",
    "    return (data - mean) / std\n",
    "\n",
    "\n",
    "@data_append\n",
    "def mean(x):\n",
    "    return np.mean(data)\n",
    "\n",
    "\n",
    "@data_append\n",
    "def var(x):\n",
    "    return np.var(data)\n",
    "\n",
    "\n",
    "@data_append\n",
    "def std(x):\n",
    "    return np.std(data)\n",
    "\n",
    "\n",
    "def rel_error(x, y):\n",
    "    \"\"\"Returns relative error.\"\"\"\n",
    "    return np.max(np.abs(x - y) / (np.maximum(1e-8, np.abs(x) + np.abs(y))))"
   ]
  },
  {
   "cell_type": "code",
   "execution_count": 48,
   "metadata": {},
   "outputs": [],
   "source": [
    "def d_mean(x):\n",
    "    return 1 / N\n",
    "\n",
    "\n",
    "def d_var(x):\n",
    "    return 2 * (x - mean(x)) / N\n",
    "\n",
    "\n",
    "def d_std(x):\n",
    "    return (x - mean(x)) / (N * std(x))\n",
    "\n",
    "\n",
    "def d_hat(x):\n",
    "    m = mean(x)\n",
    "    s = std(x)\n",
    "    dh_cors = (((data - m) * (x - m) / (s**2)) + 1) / (-1 * N * s)\n",
    "    dh_self = (N - 1 - hat(x)[-1] ** 2) / (s * N)\n",
    "    return np.append(dh_cors, dh_self).sum()"
   ]
  },
  {
   "cell_type": "code",
   "execution_count": 49,
   "metadata": {},
   "outputs": [
    {
     "name": "stdout",
     "output_type": "stream",
     "text": [
      "mean:5.0\n",
      "[0.11111111] 0.1111111111111111\n",
      "var:6.666666666666667\n",
      "[0.88888889] 0.8888888888888888\n",
      "std:2.581988897471611\n",
      "[0.1721325] 0.17213259316477408\n",
      "hat:[-1.54919334 -1.161895   -0.77459667 -0.38729833  0.          0.38729833\n",
      "  0.77459667  1.161895    1.54919334]\n",
      "[-6.83047369e-14] 2.7755575615628914e-17\n"
     ]
    }
   ],
   "source": [
    "x = np.array([9.0])\n",
    "for str in [\"mean\", \"var\", \"std\", \"hat\"]:\n",
    "    f = eval(str)\n",
    "    d = eval(f\"d_{str}\")\n",
    "    f_eval = eval_numerical_gradient_array if str == \"hat\" else eval_numerical_gradient\n",
    "    print(f\"{str}:{f(x)}\")\n",
    "    numerical = f_eval(f, x, h=0.01)\n",
    "    print(numerical, d(x[0]))"
   ]
  }
 ],
 "metadata": {
  "kernelspec": {
   "display_name": "cs231n",
   "language": "python",
   "name": "python3"
  },
  "language_info": {
   "codemirror_mode": {
    "name": "ipython",
    "version": 3
   },
   "file_extension": ".py",
   "mimetype": "text/x-python",
   "name": "python",
   "nbconvert_exporter": "python",
   "pygments_lexer": "ipython3",
   "version": "3.10.12"
  }
 },
 "nbformat": 4,
 "nbformat_minor": 2
}
