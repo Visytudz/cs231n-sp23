{
 "cells": [
  {
   "cell_type": "code",
   "execution_count": null,
   "id": "149d5b7e",
   "metadata": {},
   "outputs": [],
   "source": [
    "\"\"\"\n",
    "# This mounts your Google Drive to the Colab VM.\n",
    "from google.colab import drive\n",
    "drive.mount('/content/drive')\n",
    "\n",
    "# TODO: Enter the foldername in your Drive where you have saved the unzipped\n",
    "# assignment folder, e.g. 'cs231n/assignments/assignment1/'\n",
    "FOLDERNAME = None\n",
    "assert FOLDERNAME is not None, \"[!] Enter the foldername.\"\n",
    "\n",
    "# Now that we've mounted your Drive, this ensures that\n",
    "# the Python interpreter of the Colab VM can load\n",
    "# python files from within it.\n",
    "import sys\n",
    "sys.path.append('/content/drive/My Drive/{}'.format(FOLDERNAME))\n",
    "\n",
    "# This downloads the CIFAR-10 dataset to your Drive\n",
    "# if it doesn't already exist.\n",
    "%cd /content/drive/My\\ Drive/$FOLDERNAME/cs231n/datasets/\n",
    "!bash get_datasets.sh\n",
    "%cd /content/drive/My\\ Drive/$FOLDERNAME\n",
    "\"\"\""
   ]
  },
  {
   "cell_type": "markdown",
   "id": "5fdfc27e",
   "metadata": {
    "tags": [
     "pdf-title"
    ]
   },
   "source": [
    "# Softmax exercise\n",
    "\n",
    "*Complete and hand in this completed worksheet (including its outputs and any supporting code outside of the worksheet) with your assignment submission. For more details see the [assignments page](http://vision.stanford.edu/teaching/cs231n/assignments.html) on the course website.*\n",
    "\n",
    "This exercise is analogous to the SVM exercise. You will:\n",
    "\n",
    "- implement a fully-vectorized **loss function** for the Softmax classifier\n",
    "- implement the fully-vectorized expression for its **analytic gradient**\n",
    "- **check your implementation** with numerical gradient\n",
    "- use a validation set to **tune the learning rate and regularization** strength\n",
    "- **optimize** the loss function with **SGD**\n",
    "- **visualize** the final learned weights\n"
   ]
  },
  {
   "cell_type": "code",
   "execution_count": 1,
   "id": "ca6cf2d4",
   "metadata": {
    "tags": [
     "pdf-ignore"
    ]
   },
   "outputs": [],
   "source": [
    "import random\n",
    "import numpy as np\n",
    "from cs231n.data_utils import load_CIFAR10\n",
    "import matplotlib.pyplot as plt\n",
    "\n",
    "%matplotlib inline\n",
    "plt.rcParams['figure.figsize'] = (10.0, 8.0) # set default size of plots\n",
    "plt.rcParams['image.interpolation'] = 'nearest'\n",
    "plt.rcParams['image.cmap'] = 'gray'\n",
    "\n",
    "# for auto-reloading extenrnal modules\n",
    "# see http://stackoverflow.com/questions/1907993/autoreload-of-modules-in-ipython\n",
    "%load_ext autoreload\n",
    "%autoreload 2"
   ]
  },
  {
   "cell_type": "code",
   "execution_count": 2,
   "id": "9e9bbbbe",
   "metadata": {
    "tags": [
     "pdf-ignore"
    ]
   },
   "outputs": [
    {
     "name": "stdout",
     "output_type": "stream",
     "text": [
      "Train data shape:  (49000, 3073)\n",
      "Train labels shape:  (49000,)\n",
      "Validation data shape:  (1000, 3073)\n",
      "Validation labels shape:  (1000,)\n",
      "Test data shape:  (1000, 3073)\n",
      "Test labels shape:  (1000,)\n",
      "dev data shape:  (500, 3073)\n",
      "dev labels shape:  (500,)\n"
     ]
    }
   ],
   "source": [
    "def get_CIFAR10_data(\n",
    "    num_training=49000, num_validation=1000, num_test=1000, num_dev=500\n",
    "):\n",
    "    \"\"\"\n",
    "    Load the CIFAR-10 dataset from disk and perform preprocessing to prepare\n",
    "    it for the linear classifier. These are the same steps as we used for the\n",
    "    SVM, but condensed to a single function.\n",
    "    \"\"\"\n",
    "    # Load the raw CIFAR-10 data\n",
    "    cifar10_dir = \"cs231n/datasets/cifar-10-batches-py\"\n",
    "\n",
    "    # Cleaning up variables to prevent loading data multiple times (which may cause memory issue)\n",
    "    try:\n",
    "        del X_train, y_train\n",
    "        del X_test, y_test\n",
    "        print(\"Clear previously loaded data.\")\n",
    "    except:\n",
    "        pass\n",
    "\n",
    "    X_train, y_train, X_test, y_test = load_CIFAR10(cifar10_dir)\n",
    "\n",
    "    # subsample the data\n",
    "    mask = list(range(num_training, num_training + num_validation))\n",
    "    X_val = X_train[mask]\n",
    "    y_val = y_train[mask]\n",
    "    mask = list(range(num_training))\n",
    "    X_train = X_train[mask]\n",
    "    y_train = y_train[mask]\n",
    "    mask = list(range(num_test))\n",
    "    X_test = X_test[mask]\n",
    "    y_test = y_test[mask]\n",
    "    mask = np.random.choice(num_training, num_dev, replace=False)\n",
    "    X_dev = X_train[mask]\n",
    "    y_dev = y_train[mask]\n",
    "\n",
    "    # Preprocessing: reshape the image data into rows\n",
    "    X_train = np.reshape(X_train, (X_train.shape[0], -1))\n",
    "    X_val = np.reshape(X_val, (X_val.shape[0], -1))\n",
    "    X_test = np.reshape(X_test, (X_test.shape[0], -1))\n",
    "    X_dev = np.reshape(X_dev, (X_dev.shape[0], -1))\n",
    "\n",
    "    # Normalize the data: subtract the mean image\n",
    "    mean_image = np.mean(X_train, axis=0)\n",
    "    X_train -= mean_image\n",
    "    X_val -= mean_image\n",
    "    X_test -= mean_image\n",
    "    X_dev -= mean_image\n",
    "\n",
    "    # add bias dimension and transform into columns\n",
    "    X_train = np.hstack([X_train, np.ones((X_train.shape[0], 1))])\n",
    "    X_val = np.hstack([X_val, np.ones((X_val.shape[0], 1))])\n",
    "    X_test = np.hstack([X_test, np.ones((X_test.shape[0], 1))])\n",
    "    X_dev = np.hstack([X_dev, np.ones((X_dev.shape[0], 1))])\n",
    "\n",
    "    return X_train, y_train, X_val, y_val, X_test, y_test, X_dev, y_dev\n",
    "\n",
    "\n",
    "# Invoke the above function to get our data.\n",
    "X_train, y_train, X_val, y_val, X_test, y_test, X_dev, y_dev = get_CIFAR10_data()\n",
    "print(\"Train data shape: \", X_train.shape)\n",
    "print(\"Train labels shape: \", y_train.shape)\n",
    "print(\"Validation data shape: \", X_val.shape)\n",
    "print(\"Validation labels shape: \", y_val.shape)\n",
    "print(\"Test data shape: \", X_test.shape)\n",
    "print(\"Test labels shape: \", y_test.shape)\n",
    "print(\"dev data shape: \", X_dev.shape)\n",
    "print(\"dev labels shape: \", y_dev.shape)"
   ]
  },
  {
   "cell_type": "markdown",
   "id": "d4c3fb04",
   "metadata": {},
   "source": [
    "## Softmax Classifier\n",
    "\n",
    "Your code for this section will all be written inside `cs231n/classifiers/softmax.py`.\n"
   ]
  },
  {
   "cell_type": "code",
   "execution_count": 83,
   "id": "25f2e5e1",
   "metadata": {},
   "outputs": [
    {
     "name": "stdout",
     "output_type": "stream",
     "text": [
      "loss: 2.308338\n",
      "sanity check: 2.302585\n"
     ]
    }
   ],
   "source": [
    "# First implement the naive softmax loss function with nested loops.\n",
    "# Open the file cs231n/classifiers/softmax.py and implement the\n",
    "# softmax_loss_naive function.\n",
    "\n",
    "from cs231n.classifiers.softmax import softmax_loss_naive\n",
    "import time\n",
    "\n",
    "# Generate a random softmax weight matrix and use it to compute the loss.\n",
    "W = np.random.randn(3073, 10) * 0.0001\n",
    "loss, grad = softmax_loss_naive(W, X_dev, y_dev, 0.0)\n",
    "\n",
    "# As a rough sanity check, our loss should be something close to -log(0.1).\n",
    "print(\"loss: %f\" % loss)\n",
    "print(\"sanity check: %f\" % (-np.log(0.1)))"
   ]
  },
  {
   "cell_type": "markdown",
   "id": "15ebc638",
   "metadata": {
    "tags": [
     "pdf-inline"
    ]
   },
   "source": [
    "**Inline Question 1**\n",
    "\n",
    "Why do we expect our loss to be close to -log(0.1)? Explain briefly.**\n",
    "\n",
    "$\\color{blue}{\\textit Your Answer:}$ Since the weight matrix W is uniform randomly selected, the predicted probability of each class is uniform distribution and identically equals 1/10, where 10 is the number of classes. So the cross entroy for each example is -log(0.1), which should equal to the loss \n",
    "\n"
   ]
  },
  {
   "cell_type": "code",
   "execution_count": 91,
   "id": "a8cb3eb1",
   "metadata": {},
   "outputs": [
    {
     "name": "stdout",
     "output_type": "stream",
     "text": [
      "numerical: -2.866626 analytic: -2.866626, relative error: 3.027070e-10\n",
      "numerical: -0.447838 analytic: -0.447838, relative error: 6.077652e-08\n",
      "numerical: 0.327418 analytic: 0.327418, relative error: 2.252873e-08\n",
      "numerical: 0.742921 analytic: 0.742921, relative error: 2.312088e-08\n",
      "numerical: 2.263627 analytic: 2.263626, relative error: 1.931400e-08\n",
      "numerical: -0.247591 analytic: -0.247591, relative error: 9.643408e-08\n",
      "numerical: -5.006269 analytic: -5.006269, relative error: 3.280721e-09\n",
      "numerical: 1.239384 analytic: 1.239384, relative error: 7.319023e-08\n",
      "numerical: 0.710334 analytic: 0.710333, relative error: 1.446319e-07\n",
      "numerical: 1.424559 analytic: 1.424558, relative error: 3.992975e-08\n",
      "numerical: -0.652144 analytic: -0.652144, relative error: 1.687574e-08\n",
      "numerical: 2.366280 analytic: 2.366280, relative error: 1.182925e-10\n",
      "numerical: 0.628529 analytic: 0.628529, relative error: 1.965474e-08\n",
      "numerical: -2.444687 analytic: -2.444687, relative error: 4.260474e-08\n",
      "numerical: 0.210759 analytic: 0.210759, relative error: 1.951163e-07\n",
      "numerical: 1.772894 analytic: 1.772894, relative error: 5.410552e-08\n",
      "numerical: -1.302549 analytic: -1.302549, relative error: 3.742735e-08\n",
      "numerical: -0.753402 analytic: -0.753402, relative error: 6.667162e-08\n",
      "numerical: -1.354073 analytic: -1.354073, relative error: 2.055683e-08\n",
      "numerical: 1.476781 analytic: 1.476781, relative error: 2.978422e-08\n"
     ]
    }
   ],
   "source": [
    "# Complete the implementation of softmax_loss_naive and implement a (naive)\n",
    "# version of the gradient that uses nested loops.\n",
    "loss, grad = softmax_loss_naive(W, X_dev, y_dev, 0.0)\n",
    "\n",
    "# As we did for the SVM, use numeric gradient checking as a debugging tool.\n",
    "# The numeric gradient should be close to the analytic gradient.\n",
    "from cs231n.gradient_check import grad_check_sparse\n",
    "\n",
    "f = lambda w: softmax_loss_naive(w, X_dev, y_dev, 0.0)[0]\n",
    "grad_numerical = grad_check_sparse(f, W, grad, 10)\n",
    "\n",
    "# similar to SVM case, do another gradient check with regularization\n",
    "loss, grad = softmax_loss_naive(W, X_dev, y_dev, 5e1)\n",
    "f = lambda w: softmax_loss_naive(w, X_dev, y_dev, 5e1)[0]\n",
    "grad_numerical = grad_check_sparse(f, W, grad, 10)"
   ]
  },
  {
   "cell_type": "code",
   "execution_count": 93,
   "id": "4a4a81d4",
   "metadata": {},
   "outputs": [
    {
     "name": "stdout",
     "output_type": "stream",
     "text": [
      "naive loss: 2.308338e+00 computed in 0.438382s\n",
      "vectorized loss: 2.308338e+00 computed in 0.053721s\n",
      "Loss difference: 0.000000\n",
      "Gradient difference: 0.000000\n"
     ]
    }
   ],
   "source": [
    "# Now that we have a naive implementation of the softmax loss function and its gradient,\n",
    "# implement a vectorized version in softmax_loss_vectorized.\n",
    "# The two versions should compute the same results, but the vectorized version should be\n",
    "# much faster.\n",
    "tic = time.time()\n",
    "loss_naive, grad_naive = softmax_loss_naive(W, X_dev, y_dev, 0.000005)\n",
    "toc = time.time()\n",
    "print(\"naive loss: %e computed in %fs\" % (loss_naive, toc - tic))\n",
    "\n",
    "from cs231n.classifiers.softmax import softmax_loss_vectorized\n",
    "\n",
    "tic = time.time()\n",
    "loss_vectorized, grad_vectorized = softmax_loss_vectorized(W, X_dev, y_dev, 0.000005)\n",
    "toc = time.time()\n",
    "print(\"vectorized loss: %e computed in %fs\" % (loss_vectorized, toc - tic))\n",
    "\n",
    "# As we did for the SVM, we use the Frobenius norm to compare the two versions\n",
    "# of the gradient.\n",
    "grad_difference = np.linalg.norm(grad_naive - grad_vectorized, ord=\"fro\")\n",
    "print(\"Loss difference: %f\" % np.abs(loss_naive - loss_vectorized))\n",
    "print(\"Gradient difference: %f\" % grad_difference)"
   ]
  },
  {
   "cell_type": "code",
   "execution_count": 97,
   "id": "a3453536",
   "metadata": {
    "tags": [
     "code"
    ],
    "test": "tuning"
   },
   "outputs": [
    {
     "name": "stdout",
     "output_type": "stream",
     "text": [
      "iteration 0 / 1500: loss 776.528666\n",
      "iteration 100 / 1500: loss 284.459287\n",
      "iteration 200 / 1500: loss 105.337737\n",
      "iteration 300 / 1500: loss 39.848184\n",
      "iteration 400 / 1500: loss 15.872190\n",
      "iteration 500 / 1500: loss 7.181810\n",
      "iteration 600 / 1500: loss 3.885183\n",
      "iteration 700 / 1500: loss 2.776957\n",
      "iteration 800 / 1500: loss 2.292307\n",
      "iteration 900 / 1500: loss 2.219379\n",
      "iteration 1000 / 1500: loss 2.159001\n",
      "iteration 1100 / 1500: loss 2.120333\n",
      "iteration 1200 / 1500: loss 2.044625\n",
      "iteration 1300 / 1500: loss 2.044518\n",
      "iteration 1400 / 1500: loss 2.095086\n",
      "iteration 0 / 1500: loss 1548.693102\n",
      "iteration 100 / 1500: loss 208.350273\n",
      "iteration 200 / 1500: loss 29.707408\n",
      "iteration 300 / 1500: loss 5.836296\n",
      "iteration 400 / 1500: loss 2.613310\n",
      "iteration 500 / 1500: loss 2.210889\n",
      "iteration 600 / 1500: loss 2.187570\n",
      "iteration 700 / 1500: loss 2.113698\n",
      "iteration 800 / 1500: loss 2.119732\n",
      "iteration 900 / 1500: loss 2.153785\n",
      "iteration 1000 / 1500: loss 2.120440\n",
      "iteration 1100 / 1500: loss 2.180326\n",
      "iteration 1200 / 1500: loss 2.157718\n",
      "iteration 1300 / 1500: loss 2.097530\n",
      "iteration 1400 / 1500: loss 2.111841\n",
      "iteration 0 / 1500: loss 779.618773\n",
      "iteration 100 / 1500: loss 39.586549\n",
      "iteration 200 / 1500: loss 3.890877\n",
      "iteration 300 / 1500: loss 2.157880\n",
      "iteration 400 / 1500: loss 2.116917\n",
      "iteration 500 / 1500: loss 2.049077\n",
      "iteration 600 / 1500: loss 2.050510\n",
      "iteration 700 / 1500: loss 2.072059\n",
      "iteration 800 / 1500: loss 2.110543\n",
      "iteration 900 / 1500: loss 2.094049\n",
      "iteration 1000 / 1500: loss 2.077721\n",
      "iteration 1100 / 1500: loss 2.073854\n",
      "iteration 1200 / 1500: loss 2.096258\n",
      "iteration 1300 / 1500: loss 2.100290\n",
      "iteration 1400 / 1500: loss 2.094659\n",
      "iteration 0 / 1500: loss 1538.806160\n",
      "iteration 100 / 1500: loss 5.561380\n",
      "iteration 200 / 1500: loss 2.147598\n",
      "iteration 300 / 1500: loss 2.141381\n",
      "iteration 400 / 1500: loss 2.184407\n",
      "iteration 500 / 1500: loss 2.168157\n",
      "iteration 600 / 1500: loss 2.142198\n",
      "iteration 700 / 1500: loss 2.189364\n",
      "iteration 800 / 1500: loss 2.118057\n",
      "iteration 900 / 1500: loss 2.121229\n",
      "iteration 1000 / 1500: loss 2.151980\n",
      "iteration 1100 / 1500: loss 2.165096\n",
      "iteration 1200 / 1500: loss 2.169550\n",
      "iteration 1300 / 1500: loss 2.135068\n",
      "iteration 1400 / 1500: loss 2.111515\n",
      "iteration 0 / 1500: loss 766.898832\n",
      "iteration 100 / 1500: loss 6.787598\n",
      "iteration 200 / 1500: loss 2.115906\n",
      "iteration 300 / 1500: loss 2.094816\n",
      "iteration 400 / 1500: loss 2.128123\n",
      "iteration 500 / 1500: loss 2.122898\n",
      "iteration 600 / 1500: loss 2.077728\n",
      "iteration 700 / 1500: loss 2.115829\n",
      "iteration 800 / 1500: loss 2.058278\n",
      "iteration 900 / 1500: loss 2.103620\n",
      "iteration 1000 / 1500: loss 2.189742\n",
      "iteration 1100 / 1500: loss 2.095536\n",
      "iteration 1200 / 1500: loss 2.082956\n",
      "iteration 1300 / 1500: loss 2.031560\n",
      "iteration 1400 / 1500: loss 2.093297\n",
      "iteration 0 / 1500: loss 1545.087904\n",
      "iteration 100 / 1500: loss 2.217729\n",
      "iteration 200 / 1500: loss 2.136378\n",
      "iteration 300 / 1500: loss 2.121659\n",
      "iteration 400 / 1500: loss 2.153737\n",
      "iteration 500 / 1500: loss 2.140914\n",
      "iteration 600 / 1500: loss 2.156157\n",
      "iteration 700 / 1500: loss 2.149543\n",
      "iteration 800 / 1500: loss 2.164314\n",
      "iteration 900 / 1500: loss 2.087424\n",
      "iteration 1000 / 1500: loss 2.175818\n",
      "iteration 1100 / 1500: loss 2.194927\n",
      "iteration 1200 / 1500: loss 2.120086\n",
      "iteration 1300 / 1500: loss 2.105100\n",
      "iteration 1400 / 1500: loss 2.138406\n",
      "lr 1.000000e-07 reg 2.500000e+04 train accuracy: 0.331449 val accuracy: 0.345000\n",
      "lr 1.000000e-07 reg 5.000000e+04 train accuracy: 0.313102 val accuracy: 0.321000\n",
      "lr 3.000000e-07 reg 2.500000e+04 train accuracy: 0.324796 val accuracy: 0.344000\n",
      "lr 3.000000e-07 reg 5.000000e+04 train accuracy: 0.293694 val accuracy: 0.315000\n",
      "lr 5.000000e-07 reg 2.500000e+04 train accuracy: 0.316714 val accuracy: 0.343000\n",
      "lr 5.000000e-07 reg 5.000000e+04 train accuracy: 0.295673 val accuracy: 0.305000\n",
      "best validation accuracy achieved during cross-validation: 0.345000\n"
     ]
    }
   ],
   "source": [
    "# Use the validation set to tune hyperparameters (regularization strength and\n",
    "# learning rate). You should experiment with different ranges for the learning\n",
    "# rates and regularization strengths; if you are careful you should be able to\n",
    "# get a classification accuracy of over 0.35 on the validation set.\n",
    "\n",
    "from cs231n.classifiers import Softmax\n",
    "\n",
    "results = {}\n",
    "best_val = -1\n",
    "best_softmax = None\n",
    "\n",
    "################################################################################\n",
    "# TODO:                                                                        #\n",
    "# Use the validation set to set the learning rate and regularization strength. #\n",
    "# This should be identical to the validation that you did for the SVM; save    #\n",
    "# the best trained softmax classifer in best_softmax.                          #\n",
    "################################################################################\n",
    "\n",
    "# Provided as a reference. You may or may not want to change these hyperparameters\n",
    "learning_rates = [1e-7, 3e-7, 5e-7]\n",
    "regularization_strengths = [2.5e4, 5e4]\n",
    "\n",
    "# *****START OF YOUR CODE (DO NOT DELETE/MODIFY THIS LINE)*****\n",
    "\n",
    "for lr in learning_rates:\n",
    "    for reg in regularization_strengths:\n",
    "        softmax = Softmax()\n",
    "        loss_his = softmax.train(\n",
    "            X_train, y_train, lr, reg, num_iters=1500, verbose=True\n",
    "        )\n",
    "        y_train_pred = softmax.predict(X_train)\n",
    "        y_val_pred = softmax.predict(X_val)\n",
    "        train_accuracy = np.mean(y_train_pred == y_train)\n",
    "        val_accuracy = np.mean(y_val_pred == y_val)\n",
    "        results[((lr, reg))] = (train_accuracy, val_accuracy)\n",
    "\n",
    "        if val_accuracy > best_val:\n",
    "            best_val = val_accuracy\n",
    "            best_softmax = softmax\n",
    "\n",
    "\n",
    "# *****END OF YOUR CODE (DO NOT DELETE/MODIFY THIS LINE)*****\n",
    "\n",
    "# Print out results.\n",
    "for lr, reg in sorted(results):\n",
    "    train_accuracy, val_accuracy = results[(lr, reg)]\n",
    "    print(\n",
    "        \"lr %e reg %e train accuracy: %f val accuracy: %f\"\n",
    "        % (lr, reg, train_accuracy, val_accuracy)\n",
    "    )\n",
    "\n",
    "print(\"best validation accuracy achieved during cross-validation: %f\" % best_val)"
   ]
  },
  {
   "cell_type": "code",
   "execution_count": 100,
   "id": "8a1f9db3",
   "metadata": {
    "test": "test"
   },
   "outputs": [
    {
     "name": "stdout",
     "output_type": "stream",
     "text": [
      "softmax on raw pixels final test set accuracy: 0.337000\n"
     ]
    }
   ],
   "source": [
    "# evaluate on test set\n",
    "# Evaluate the best softmax on test set\n",
    "y_test_pred = best_softmax.predict(X_test)\n",
    "test_accuracy = np.mean(y_test == y_test_pred)\n",
    "print(\"softmax on raw pixels final test set accuracy: %f\" % (test_accuracy,))"
   ]
  },
  {
   "cell_type": "markdown",
   "id": "86b9b65c",
   "metadata": {
    "tags": [
     "pdf-inline"
    ]
   },
   "source": [
    "**Inline Question 2** - *True or False*\n",
    "\n",
    "Suppose the overall training loss is defined as the sum of the per-datapoint loss over all training examples. It is possible to add a new datapoint to a training set that would leave the SVM loss unchanged, but this is not the case with the Softmax classifier loss.\n",
    "\n",
    "$\\color{blue}{\\textit Your Answer:}$\n",
    "\n",
    "\n",
    "$\\color{blue}{\\textit Your Explanation:}$ SVM allows for a loss of 0, but Softmax does not, as the latter's loss always exists.\n",
    "\n"
   ]
  },
  {
   "cell_type": "code",
   "execution_count": 101,
   "id": "009f08b9",
   "metadata": {},
   "outputs": [
    {
     "data": {
      "image/png": "[encoded data removed]",
      "text/plain": [
       "<Figure size 1000x800 with 10 Axes>"
      ]
     },
     "metadata": {},
     "output_type": "display_data"
    }
   ],
   "source": [
    "# Visualize the learned weights for each class\n",
    "w = best_softmax.W[:-1, :]  # strip out the bias\n",
    "w = w.reshape(32, 32, 3, 10)\n",
    "\n",
    "w_min, w_max = np.min(w), np.max(w)\n",
    "\n",
    "classes = [\n",
    "    \"plane\",\n",
    "    \"car\",\n",
    "    \"bird\",\n",
    "    \"cat\",\n",
    "    \"deer\",\n",
    "    \"dog\",\n",
    "    \"frog\",\n",
    "    \"horse\",\n",
    "    \"ship\",\n",
    "    \"truck\",\n",
    "]\n",
    "for i in range(10):\n",
    "    plt.subplot(2, 5, i + 1)\n",
    "\n",
    "    # Rescale the weights to be between 0 and 255\n",
    "    wimg = 255.0 * (w[:, :, :, i].squeeze() - w_min) / (w_max - w_min)\n",
    "    plt.imshow(wimg.astype(\"uint8\"))\n",
    "    plt.axis(\"off\")\n",
    "    plt.title(classes[i])"
   ]
  },
  {
   "cell_type": "code",
   "execution_count": null,
   "id": "3569b36b",
   "metadata": {},
   "outputs": [],
   "source": []
  }
 ],
 "metadata": {
  "kernelspec": {
   "display_name": "cs231n",
   "language": "python",
   "name": "python3"
  },
  "language_info": {
   "codemirror_mode": {
    "name": "ipython",
    "version": 3
   },
   "file_extension": ".py",
   "mimetype": "text/x-python",
   "name": "python",
   "nbconvert_exporter": "python",
   "pygments_lexer": "ipython3",
   "version": "3.10.12"
  }
 },
 "nbformat": 4,
 "nbformat_minor": 5
}
